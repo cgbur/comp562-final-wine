{
 "cells": [
  {
   "cell_type": "markdown",
   "metadata": {},
   "source": [
    "# Wine Reviews\n",
    "\n",
    "Comp 562 final project by Chris Burgess, Justin Do, Rhea Gupta, and Kyuyeon Kim.\n",
    "\n",
    "This project is going to be based around a dataset of win reviews. Our goal is to creat models that are able to make predictions about the kind of grape, score, and area of growth. We are first going to look at cleaning the data and presenting some basic statistics. Then we will move onto how we made the models and lastly how they performed. "
   ]
  },
  {
   "cell_type": "markdown",
   "metadata": {},
   "source": [
    "## Importing and Cleaning"
   ]
  },
  {
   "cell_type": "code",
   "execution_count": 1,
   "metadata": {},
   "outputs": [],
   "source": [
    "import numpy as np\n",
    "import pandas as pd\n",
    "import re"
   ]
  },
  {
   "cell_type": "code",
   "execution_count": 2,
   "metadata": {},
   "outputs": [],
   "source": [
    "# different environments may not correctly have a working dir. Change this line as appropriate\n",
    "path_to_data = r\"C:\\Users\\cburg\\Documents\\wine\\data\\winemag-data-130k-v2.csv\"\n",
    "df = pd.read_csv(path_to_data)"
   ]
  },
  {
   "cell_type": "code",
   "execution_count": 3,
   "outputs": [
    {
     "name": "stdout",
     "output_type": "stream",
     "text": [
      "Index(['Unnamed: 0', 'country', 'description', 'designation', 'points',\n",
      "       'price', 'province', 'region_1', 'region_2', 'taster_name',\n",
      "       'taster_twitter_handle', 'title', 'variety', 'winery'],\n",
      "      dtype='object')\n"
     ]
    }
   ],
   "source": [
    "df.head(3)\n",
    "print(df.columns)"
   ],
   "metadata": {
    "collapsed": false,
    "pycharm": {
     "name": "#%%\n"
    }
   }
  },
  {
   "cell_type": "code",
   "execution_count": 6,
   "outputs": [
    {
     "name": "stdout",
     "output_type": "stream",
     "text": [
      "2019\n"
     ]
    },
    {
     "data": {
      "text/plain": "   Unnamed: 0   country                                        description  \\\n0           0     Italy  Aromas include tropical fruit, broom, brimston...   \n1           1  Portugal  This is ripe and fruity, a wine that is smooth...   \n2           2        US  Tart and snappy, the flavors of lime flesh and...   \n\n    designation  points  price           province           region_1  \\\n0  Vulkà Bianco      87    NaN  Sicily & Sardinia               Etna   \n1      Avidagos      87   15.0              Douro                NaN   \n2           NaN      87   14.0             Oregon  Willamette Valley   \n\n            region_2    taster_name taster_twitter_handle  \\\n0                NaN  Kerin O’Keefe          @kerinokeefe   \n1                NaN     Roger Voss            @vossroger   \n2  Willamette Valley   Paul Gregutt           @paulgwine    \n\n                                           title         variety  \\\n0              Nicosia 2013 Vulkà Bianco  (Etna)     White Blend   \n1  Quinta dos Avidagos 2011 Avidagos Red (Douro)  Portuguese Red   \n2  Rainstorm 2013 Pinot Gris (Willamette Valley)      Pinot Gris   \n\n                winery  year  \n0              Nicosia  2013  \n1  Quinta dos Avidagos  2011  \n2            Rainstorm  2013  ",
      "text/html": "<div>\n<style scoped>\n    .dataframe tbody tr th:only-of-type {\n        vertical-align: middle;\n    }\n\n    .dataframe tbody tr th {\n        vertical-align: top;\n    }\n\n    .dataframe thead th {\n        text-align: right;\n    }\n</style>\n<table border=\"1\" class=\"dataframe\">\n  <thead>\n    <tr style=\"text-align: right;\">\n      <th></th>\n      <th>Unnamed: 0</th>\n      <th>country</th>\n      <th>description</th>\n      <th>designation</th>\n      <th>points</th>\n      <th>price</th>\n      <th>province</th>\n      <th>region_1</th>\n      <th>region_2</th>\n      <th>taster_name</th>\n      <th>taster_twitter_handle</th>\n      <th>title</th>\n      <th>variety</th>\n      <th>winery</th>\n      <th>year</th>\n    </tr>\n  </thead>\n  <tbody>\n    <tr>\n      <th>0</th>\n      <td>0</td>\n      <td>Italy</td>\n      <td>Aromas include tropical fruit, broom, brimston...</td>\n      <td>Vulkà Bianco</td>\n      <td>87</td>\n      <td>NaN</td>\n      <td>Sicily &amp; Sardinia</td>\n      <td>Etna</td>\n      <td>NaN</td>\n      <td>Kerin O’Keefe</td>\n      <td>@kerinokeefe</td>\n      <td>Nicosia 2013 Vulkà Bianco  (Etna)</td>\n      <td>White Blend</td>\n      <td>Nicosia</td>\n      <td>2013</td>\n    </tr>\n    <tr>\n      <th>1</th>\n      <td>1</td>\n      <td>Portugal</td>\n      <td>This is ripe and fruity, a wine that is smooth...</td>\n      <td>Avidagos</td>\n      <td>87</td>\n      <td>15.0</td>\n      <td>Douro</td>\n      <td>NaN</td>\n      <td>NaN</td>\n      <td>Roger Voss</td>\n      <td>@vossroger</td>\n      <td>Quinta dos Avidagos 2011 Avidagos Red (Douro)</td>\n      <td>Portuguese Red</td>\n      <td>Quinta dos Avidagos</td>\n      <td>2011</td>\n    </tr>\n    <tr>\n      <th>2</th>\n      <td>2</td>\n      <td>US</td>\n      <td>Tart and snappy, the flavors of lime flesh and...</td>\n      <td>NaN</td>\n      <td>87</td>\n      <td>14.0</td>\n      <td>Oregon</td>\n      <td>Willamette Valley</td>\n      <td>Willamette Valley</td>\n      <td>Paul Gregutt</td>\n      <td>@paulgwine</td>\n      <td>Rainstorm 2013 Pinot Gris (Willamette Valley)</td>\n      <td>Pinot Gris</td>\n      <td>Rainstorm</td>\n      <td>2013</td>\n    </tr>\n  </tbody>\n</table>\n</div>"
     },
     "execution_count": 6,
     "metadata": {},
     "output_type": "execute_result"
    }
   ],
   "source": [
    "# Compute a year column for the data\n",
    "\n",
    "year_reg = r'[12][0-9]{3}'\n",
    "years = []\n",
    "for title in df['title']:\n",
    "    year_result = re.search(year_reg, title)\n",
    "    if year_result is None:\n",
    "        years.append('unknown')\n",
    "    else:\n",
    "        years.append(year_result.group(0))\n",
    "\n",
    "df['year'] = years\n",
    "\n",
    "df.head(3)"
   ],
   "metadata": {
    "collapsed": false,
    "pycharm": {
     "name": "#%%\n"
    }
   }
  }
 ],
 "metadata": {
  "kernelspec": {
   "name": "python3",
   "language": "python",
   "display_name": "Python 3"
  },
  "language_info": {
   "codemirror_mode": {
    "name": "ipython",
    "version": 3
   },
   "file_extension": ".py",
   "mimetype": "text/x-python",
   "name": "python",
   "nbconvert_exporter": "python",
   "pygments_lexer": "ipython3",
   "version": "3.8.3"
  }
 },
 "nbformat": 4,
 "nbformat_minor": 4
}