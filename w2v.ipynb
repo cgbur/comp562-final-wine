{
 "cells": [
  {
   "cell_type": "code",
   "execution_count": 17,
   "metadata": {},
   "outputs": [],
   "source": [
    "import numpy as np\n",
    "import pandas as pd\n",
    "import matplotlib.pyplot as plt\n",
    "import re\n",
    "import seaborn as sns\n",
    "\n",
    "plt.rcParams['figure.dpi']= 150"
   ]
  },
  {
   "cell_type": "code",
   "execution_count": 18,
   "metadata": {},
   "outputs": [],
   "source": [
    "# different environments may not correctly have a working dir. Change this line as appropriate\n",
    "path_to_data = r\"./data/winemag-data-130k-v2.csv\"\n",
    "# path_to_data = r\"./data/winemag-data-130k-v2_lemma.csv\"\n",
    "df = pd.read_csv(path_to_data)\n",
    "df = df.drop(columns=['Unnamed: 0'])\n"
   ]
  },
  {
   "cell_type": "code",
   "execution_count": 19,
   "metadata": {
    "pycharm": {
     "name": "#%%\n"
    }
   },
   "outputs": [
    {
     "name": "stdout",
     "output_type": "stream",
     "text": [
      "Index(['country', 'description', 'designation', 'points', 'price', 'province',\n",
      "       'region_1', 'region_2', 'taster_name', 'taster_twitter_handle', 'title',\n",
      "       'variety', 'winery', 'year', 'lemmas'],\n",
      "      dtype='object')\n"
     ]
    },
    {
     "data": {
      "text/plain": "country                                                           Portugal\ndescription              This is ripe and fruity, a wine that is smooth...\ndesignation                                                       Avidagos\npoints                                                                  87\nprice                                                                   15\nprovince                                                             Douro\nregion_1                                                               NaN\nregion_2                                                               NaN\ntaster_name                                                     Roger Voss\ntaster_twitter_handle                                           @vossroger\ntitle                        Quinta dos Avidagos 2011 Avidagos Red (Douro)\nvariety                                                     Portuguese Red\nwinery                                                 Quinta dos Avidagos\nyear                                                                  2011\nlemmas                   {'fruit', 'firm', 'juicy', 'berry', 'ripe', 'w...\nName: 1, dtype: object"
     },
     "execution_count": 19,
     "metadata": {},
     "output_type": "execute_result"
    }
   ],
   "source": [
    "df.head(3)\n",
    "print(df.columns)\n",
    "df.iloc[1]"
   ]
  },
  {
   "cell_type": "code",
   "execution_count": 4,
   "metadata": {
    "pycharm": {
     "name": "#%%\n"
    }
   },
   "outputs": [
    {
     "data": {
      "text/plain": "    country                                        description  \\\n0     Italy  Aromas include tropical fruit, broom, brimston...   \n1  Portugal  This is ripe and fruity, a wine that is smooth...   \n2        US  Tart and snappy, the flavors of lime flesh and...   \n3        US  Pineapple rind, lemon pith and orange blossom ...   \n4        US  Much like the regular bottling from 2012, this...   \n\n                          designation  points  price           province  \\\n0                        Vulkà Bianco      87    NaN  Sicily & Sardinia   \n1                            Avidagos      87   15.0              Douro   \n2                                 NaN      87   14.0             Oregon   \n3                Reserve Late Harvest      87   13.0           Michigan   \n4  Vintner's Reserve Wild Child Block      87   65.0             Oregon   \n\n              region_1           region_2         taster_name  \\\n0                 Etna                NaN       Kerin O’Keefe   \n1                  NaN                NaN          Roger Voss   \n2    Willamette Valley  Willamette Valley        Paul Gregutt   \n3  Lake Michigan Shore                NaN  Alexander Peartree   \n4    Willamette Valley  Willamette Valley        Paul Gregutt   \n\n  taster_twitter_handle                                              title  \\\n0          @kerinokeefe                  Nicosia 2013 Vulkà Bianco  (Etna)   \n1            @vossroger      Quinta dos Avidagos 2011 Avidagos Red (Douro)   \n2           @paulgwine       Rainstorm 2013 Pinot Gris (Willamette Valley)   \n3                   NaN  St. Julian 2013 Reserve Late Harvest Riesling ...   \n4           @paulgwine   Sweet Cheeks 2012 Vintner's Reserve Wild Child...   \n\n          variety               winery  year  \n0     White Blend              Nicosia  2013  \n1  Portuguese Red  Quinta dos Avidagos  2011  \n2      Pinot Gris            Rainstorm  2013  \n3        Riesling           St. Julian  2013  \n4      Pinot Noir         Sweet Cheeks  2012  ",
      "text/html": "<div>\n<style scoped>\n    .dataframe tbody tr th:only-of-type {\n        vertical-align: middle;\n    }\n\n    .dataframe tbody tr th {\n        vertical-align: top;\n    }\n\n    .dataframe thead th {\n        text-align: right;\n    }\n</style>\n<table border=\"1\" class=\"dataframe\">\n  <thead>\n    <tr style=\"text-align: right;\">\n      <th></th>\n      <th>country</th>\n      <th>description</th>\n      <th>designation</th>\n      <th>points</th>\n      <th>price</th>\n      <th>province</th>\n      <th>region_1</th>\n      <th>region_2</th>\n      <th>taster_name</th>\n      <th>taster_twitter_handle</th>\n      <th>title</th>\n      <th>variety</th>\n      <th>winery</th>\n      <th>year</th>\n    </tr>\n  </thead>\n  <tbody>\n    <tr>\n      <th>0</th>\n      <td>Italy</td>\n      <td>Aromas include tropical fruit, broom, brimston...</td>\n      <td>Vulkà Bianco</td>\n      <td>87</td>\n      <td>NaN</td>\n      <td>Sicily &amp; Sardinia</td>\n      <td>Etna</td>\n      <td>NaN</td>\n      <td>Kerin O’Keefe</td>\n      <td>@kerinokeefe</td>\n      <td>Nicosia 2013 Vulkà Bianco  (Etna)</td>\n      <td>White Blend</td>\n      <td>Nicosia</td>\n      <td>2013</td>\n    </tr>\n    <tr>\n      <th>1</th>\n      <td>Portugal</td>\n      <td>This is ripe and fruity, a wine that is smooth...</td>\n      <td>Avidagos</td>\n      <td>87</td>\n      <td>15.0</td>\n      <td>Douro</td>\n      <td>NaN</td>\n      <td>NaN</td>\n      <td>Roger Voss</td>\n      <td>@vossroger</td>\n      <td>Quinta dos Avidagos 2011 Avidagos Red (Douro)</td>\n      <td>Portuguese Red</td>\n      <td>Quinta dos Avidagos</td>\n      <td>2011</td>\n    </tr>\n    <tr>\n      <th>2</th>\n      <td>US</td>\n      <td>Tart and snappy, the flavors of lime flesh and...</td>\n      <td>NaN</td>\n      <td>87</td>\n      <td>14.0</td>\n      <td>Oregon</td>\n      <td>Willamette Valley</td>\n      <td>Willamette Valley</td>\n      <td>Paul Gregutt</td>\n      <td>@paulgwine</td>\n      <td>Rainstorm 2013 Pinot Gris (Willamette Valley)</td>\n      <td>Pinot Gris</td>\n      <td>Rainstorm</td>\n      <td>2013</td>\n    </tr>\n    <tr>\n      <th>3</th>\n      <td>US</td>\n      <td>Pineapple rind, lemon pith and orange blossom ...</td>\n      <td>Reserve Late Harvest</td>\n      <td>87</td>\n      <td>13.0</td>\n      <td>Michigan</td>\n      <td>Lake Michigan Shore</td>\n      <td>NaN</td>\n      <td>Alexander Peartree</td>\n      <td>NaN</td>\n      <td>St. Julian 2013 Reserve Late Harvest Riesling ...</td>\n      <td>Riesling</td>\n      <td>St. Julian</td>\n      <td>2013</td>\n    </tr>\n    <tr>\n      <th>4</th>\n      <td>US</td>\n      <td>Much like the regular bottling from 2012, this...</td>\n      <td>Vintner's Reserve Wild Child Block</td>\n      <td>87</td>\n      <td>65.0</td>\n      <td>Oregon</td>\n      <td>Willamette Valley</td>\n      <td>Willamette Valley</td>\n      <td>Paul Gregutt</td>\n      <td>@paulgwine</td>\n      <td>Sweet Cheeks 2012 Vintner's Reserve Wild Child...</td>\n      <td>Pinot Noir</td>\n      <td>Sweet Cheeks</td>\n      <td>2012</td>\n    </tr>\n  </tbody>\n</table>\n</div>"
     },
     "execution_count": 4,
     "metadata": {},
     "output_type": "execute_result"
    }
   ],
   "source": [
    "# Compute a year column for the data\n",
    "\n",
    "year_reg = r'[12][0-9]{3}'\n",
    "years = []\n",
    "for title in df['title']:\n",
    "    year_result = re.search(year_reg, title)\n",
    "    if year_result is None:\n",
    "        years.append(0)\n",
    "    else:\n",
    "        years.append(int(year_result.group(0)))\n",
    "\n",
    "df['year'] = years\n",
    "\n",
    "df.head(5)"
   ]
  },
  {
   "cell_type": "code",
   "execution_count": 8,
   "outputs": [],
   "source": [
    "def clean_category(col_choice,data,threshold=99999999):\n",
    "    reduce_in = data[col_choice].value_counts()[:threshold]\n",
    "    data[col_choice] = np.where(data[col_choice].isin(reduce_in.index), data[col_choice], \"other\")\n",
    "\n",
    "# inputs\n",
    "m1d = df[df['price'] > 0]\n",
    "# x = m1d[['points', 'year']]\n",
    "x = m1d[['country', 'province', 'region_1', 'region_2', 'winery', 'variety', 'points', 'year', 'designation']].copy()\n",
    "y = m1d[['price']].copy()\n",
    "\n",
    "columns_to_encode = ['country', 'province', 'region_1', 'region_2', 'winery', 'variety', 'designation']\n",
    "columns_to_scale = ['points', 'year']\n",
    "\n",
    "\n",
    "clean_category('country', x)\n",
    "clean_category('province', x, 199)\n",
    "clean_category('region_1', x, 199)\n",
    "clean_category('region_2', x, 199)\n",
    "clean_category('winery', x, 199)\n",
    "clean_category('variety', x, 199)\n",
    "clean_category('designation', x, 199)\n",
    "\n"
   ],
   "metadata": {
    "collapsed": false,
    "pycharm": {
     "name": "#%%\n"
    }
   }
  }
 ],
 "metadata": {
  "kernelspec": {
   "name": "pycharm-376b519",
   "language": "python",
   "display_name": "PyCharm (wine)"
  },
  "language_info": {
   "codemirror_mode": {
    "name": "ipython",
    "version": 3
   },
   "file_extension": ".py",
   "mimetype": "text/x-python",
   "name": "python",
   "nbconvert_exporter": "python",
   "pygments_lexer": "ipython3",
   "version": "3.8.3"
  },
  "pycharm": {
   "stem_cell": {
    "cell_type": "raw",
    "source": [
     "\n"
    ],
    "metadata": {
     "collapsed": false
    }
   }
  }
 },
 "nbformat": 4,
 "nbformat_minor": 4
}